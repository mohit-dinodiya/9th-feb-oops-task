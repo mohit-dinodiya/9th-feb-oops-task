{
 "cells": [
  {
   "cell_type": "markdown",
   "id": "d67fac4e-7456-47c4-af4d-44aa7b24ef0b",
   "metadata": {},
   "source": [
    "# Q1, Create a vehicle class with an init method having instance variables as name_of_vehicle, max_speed and average_of_vehicle."
   ]
  },
  {
   "cell_type": "code",
   "execution_count": 3,
   "id": "02819da9-e889-4d7a-86fe-a142f871c1c8",
   "metadata": {},
   "outputs": [
    {
     "name": "stdout",
     "output_type": "stream",
     "text": [
      "honda\n",
      "200\n",
      "40\n"
     ]
    }
   ],
   "source": [
    "class vehicle:\n",
    "    def __init__(self,name_of_vehicle,max_speed,average_of_vehicle):\n",
    "        self.name_of_vehicle = name_of_vehicle\n",
    "        self.max_speed = max_speed\n",
    "        self.average_of_vehicle = average_of_vehicle\n",
    "obj = vehicle(\"honda\",200,40)\n",
    "print(obj.name_of_vehicle)\n",
    "print(obj.max_speed)\n",
    "print(obj.average_of_vehicle)\n",
    "        "
   ]
  },
  {
   "cell_type": "markdown",
   "id": "1ea9cc7c-3d9b-4d61-9ffb-e4692a1695af",
   "metadata": {},
   "source": [
    "# Q2. Create a child class car from the vehicle class created in Que 1, which will inherit the vehicle class.Create a method named seating_capacity which takes capacity as an argument and returns the name of the vehicle and its seating capacity."
   ]
  },
  {
   "cell_type": "code",
   "execution_count": 1,
   "id": "760e4def-88f0-492f-a8ec-eac2047cf98b",
   "metadata": {},
   "outputs": [
    {
     "name": "stdout",
     "output_type": "stream",
     "text": [
      "scoda has seating capacity of 60 of people\n"
     ]
    }
   ],
   "source": [
    "class vehicle:\n",
    "    def __init__(self,name_of_vehicle,max_speed,average_of_vehicle):\n",
    "        self.name_of_vehicle = name_of_vehicle\n",
    "        self.max_speed = max_speed\n",
    "        self.average_of_vehicle = average_of_vehicle\n",
    "class car(vehicle):\n",
    "    def seating_capacity(self,capacity):\n",
    "        return f\"{self.name_of_vehicle} has seating capacity of {capacity} of people\"\n",
    "vh = car(\"scoda\",200,30)\n",
    "print(vh.seating_capacity(60))"
   ]
  },
  {
   "cell_type": "markdown",
   "id": "71e256d2-0c26-419e-9378-0a635a96ff94",
   "metadata": {},
   "source": [
    "# Q3. What is multiple inheritance? Write a python code to demonstrate multiple inheritance.\n",
    "Multiple inheritance is a feature in object-oriented programming where a subclass can inherit from multiple parent classes. In multiple inheritance, a subclass has more than one immediate parent class, each of which contributes some attributes and behaviors to the subclass."
   ]
  },
  {
   "cell_type": "code",
   "execution_count": 2,
   "id": "39cb8118-e810-473e-a468-ac4291236cb0",
   "metadata": {},
   "outputs": [],
   "source": [
    "class parent1:\n",
    "    def method1(self):\n",
    "        print(\"this is my method1\")\n",
    "class parent2:\n",
    "    def method2(self):\n",
    "        print(\"this is my method2\")\n",
    "class child(parent1,parent2):\n",
    "    pass\n",
    "      "
   ]
  },
  {
   "cell_type": "code",
   "execution_count": 5,
   "id": "8d99bbea-607f-45c5-886d-c925076ae822",
   "metadata": {},
   "outputs": [
    {
     "name": "stdout",
     "output_type": "stream",
     "text": [
      "this is my method1\n",
      "this is my method2\n"
     ]
    }
   ],
   "source": [
    "obj = child()\n",
    "obj.method1()\n",
    "obj.method2()"
   ]
  },
  {
   "cell_type": "markdown",
   "id": "1ba21289-47d3-4235-abe5-69c5a73cfe51",
   "metadata": {},
   "source": [
    "# Q4. What are getter and setter in python? Create a class and create a getter and a setter method in this class.\n",
    "Getter and setter methods are used to control access to class attributes and are often used in object-oriented programming to maintain encapsulation. A getter method is a method that gets the value of an attribute, while a setter method is a method that sets the value of an attribute.\n",
    "\n",
    "In Python, getter and setter methods are typically implemented using the @property and @attribute_name.setter decorators. Here's an example class that defines a Person class with a name attribute and getter and setter methods:"
   ]
  },
  {
   "cell_type": "code",
   "execution_count": 10,
   "id": "5cfc1f3c-ca10-4a3f-a619-03042e5a9f81",
   "metadata": {},
   "outputs": [
    {
     "name": "stdout",
     "output_type": "stream",
     "text": [
      "mohit\n",
      "rohit\n"
     ]
    }
   ],
   "source": [
    "class person:\n",
    "    def __init__(self,name):\n",
    "        self._name = name\n",
    "    @property\n",
    "    def name(self):\n",
    "        return self._name\n",
    "    @name.setter\n",
    "    def name(self,value):\n",
    "        self._name = value\n",
    "p = person(\"mohit\")\n",
    "print (p.name)\n",
    "p.name = \"rohit\"\n",
    "print (p.name)"
   ]
  },
  {
   "cell_type": "markdown",
   "id": "a327215d-f21d-4844-85c8-80201b3ae521",
   "metadata": {},
   "source": [
    "# Q5.What is method overriding in python? Write a python code to demonstrate method overriding.\n",
    "\n",
    "Method overriding is a feature in object-oriented programming where a subclass provides a different implementation of a method that is already defined in its parent class. When a method is overridden in the subclass, the new implementation of the method is used instead of the original implementation in the parent class."
   ]
  },
  {
   "cell_type": "code",
   "execution_count": 12,
   "id": "d8e7e68d-ab42-439e-9dcd-6c4c5276806e",
   "metadata": {},
   "outputs": [
    {
     "name": "stdout",
     "output_type": "stream",
     "text": [
      "the dog barks\n",
      "the cat meows\n"
     ]
    }
   ],
   "source": [
    "class animal:\n",
    "    def speak(self):\n",
    "        print(\"the animals makes a sound\")\n",
    "class dog(animal):\n",
    "    def speak(self):\n",
    "        print(\"the dog barks\")\n",
    "class cat(animal):\n",
    "    def speak(self):\n",
    "        print(\"the cat meows\")\n",
    "dog_obj = dog()\n",
    "dog_obj.speak()\n",
    "\n",
    "cat_obj = cat()\n",
    "cat_obj.speak()\n",
    "        "
   ]
  },
  {
   "cell_type": "code",
   "execution_count": null,
   "id": "6f3bf312-ab97-4d16-82fb-5c4f8e8db831",
   "metadata": {},
   "outputs": [],
   "source": []
  }
 ],
 "metadata": {
  "kernelspec": {
   "display_name": "Python 3 (ipykernel)",
   "language": "python",
   "name": "python3"
  },
  "language_info": {
   "codemirror_mode": {
    "name": "ipython",
    "version": 3
   },
   "file_extension": ".py",
   "mimetype": "text/x-python",
   "name": "python",
   "nbconvert_exporter": "python",
   "pygments_lexer": "ipython3",
   "version": "3.10.8"
  }
 },
 "nbformat": 4,
 "nbformat_minor": 5
}
